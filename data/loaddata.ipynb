{
 "cells": [
  {
   "cell_type": "code",
   "execution_count": 41,
   "metadata": {},
   "outputs": [
    {
     "name": "stderr",
     "output_type": "stream",
     "text": [
      "/home/khanhnq/anaconda3/envs/GAI/lib/python3.9/site-packages/torch/cuda/__init__.py:88: UserWarning: CUDA initialization: Unexpected error from cudaGetDeviceCount(). Did you run some cuda functions before calling NumCudaDevices() that might have already set an error? Error 804: forward compatibility was attempted on non supported HW (Triggered internally at ../c10/cuda/CUDAFunctions.cpp:109.)\n",
      "  return torch._C._cuda_getDeviceCount() > 0\n"
     ]
    }
   ],
   "source": [
    "path = \"../runs_RegretNet/X.npy\"\n",
    "import numpy as np\n",
    "import torch\n",
    "device = torch.device(\"cuda\" if torch.cuda.is_available() else \"cpu\")"
   ]
  },
  {
   "cell_type": "code",
   "execution_count": 42,
   "metadata": {},
   "outputs": [],
   "source": [
    "dataset = np.load(path)"
   ]
  },
  {
   "cell_type": "code",
   "execution_count": 43,
   "metadata": {},
   "outputs": [
    {
     "data": {
      "text/plain": [
       "(640000, 5, 3)"
      ]
     },
     "execution_count": 43,
     "metadata": {},
     "output_type": "execute_result"
    }
   ],
   "source": [
    "dataset.shape"
   ]
  },
  {
   "cell_type": "code",
   "execution_count": 44,
   "metadata": {},
   "outputs": [
    {
     "name": "stdout",
     "output_type": "stream",
     "text": [
      "core  layers   main.py\t   plots      requirements.txt\truns_RegretNet\tutility\n",
      "data  LICENSE  mechanisms  README.md  run_configs\ttarget_nets\tutils\n"
     ]
    },
    {
     "name": "stdout",
     "output_type": "stream",
     "text": [
      "{'regret_type': 'standard', 'architecture': 'RegretNet', 'distribution_type': 'uniform_01', 'min': 2, 'max': 3, 'num_agents': 5, 'num_items': 3, 'save_data': 'runs_RegretNet/setting_default_config/seed_0', 'dir_name': 'runs_RegretNet', 'plot': {'bool': False, 'n_points': 201}, 'distill': {'architecture': None, 'validate_target_misreports': True, 'train_misreports': True}, 'net': {'init': 'gu', 'activation': 'tanh', 'num_a_layers': 3, 'num_p_layers': 3, 'num_p_hidden_units': 20, 'num_a_hidden_units': 20, 'layer_norm': False, 'hid_att': 16, 'hid': 32, 'n_attention_layers': 1, 'n_attention_heads': 2, 'activation_att': 'tanh', 'pos_enc': False, 'pos_enc_part': 1, 'pos_enc_item': 1, 'n_exch_layers': 3, 'hid_exch': 32, 'activation_exch': 'relu'}, 'train': {'seed': 42, 'restore_iter': 0, 'max_iter': 750, 'learning_rate': 0.001, 'data': 'fixed', 'num_batches': 1250, 'batch_size': 512, 'adv_reuse': True, 'num_misreports': 1, 'gd_iter': 50, 'gd_lr': 0.1, 'gd_lr_step': 1, 'w_rgt_init_val': 1, 'rgt_target_start': 0.001, 'rgt_target_end': 0.0001, 'rgt_lr': 0.5, 'save_iter': 1500, 'print_iter': 25, 'num_instances': 640000}, 'val': {'num_misreports': 1, 'gd_iter': 1000, 'gd_lr': 0.1, 'gd_lr_step': 1, 'num_batches': 128, 'batch_size': 32, 'print_iter': 750, 'data': 'online', 'num_instances': 4096}, 'setting': 'default_config'}\n"
     ]
    }
   ],
   "source": [
    "import sys\n",
    "sys.path.append(\"../\")\n",
    "!ls ..\n",
    "from core import base\n",
    "import core.base.base_generator as base_generator\n",
    "import json\n",
    "import easydict\n",
    "config = json.load(open(\"../runs_RegretNet/setting_default_config/seed_0/config.json\", \"r\"))\n",
    "config = easydict.EasyDict(config)\n",
    "print(config)"
   ]
  },
  {
   "cell_type": "code",
   "execution_count": 45,
   "metadata": {},
   "outputs": [],
   "source": [
    "from __future__ import absolute_import, division, print_function\n",
    "\n",
    "import numpy as np\n",
    "\n",
    "from core.base.base_generator import BaseGenerator\n",
    "\n",
    "\n",
    "class Generator(BaseGenerator):\n",
    "    def __init__(self, config, mode, X=None, ADV=None):\n",
    "        super(Generator, self).__init__(config, mode)\n",
    "        self.build_generator(X=X, ADV=ADV)\n",
    "\n",
    "    def save_data(self, iter):\n",
    "        return super().save_data(iter)\n",
    "\n",
    "    def generate_random_X(self, shape):\n",
    "        return np.random.rand(*shape)\n",
    "\n",
    "    def generate_random_ADV(self, shape):\n",
    "        return np.random.rand(*shape)\n"
   ]
  },
  {
   "cell_type": "code",
   "execution_count": 46,
   "metadata": {},
   "outputs": [],
   "source": [
    "dataset = Generator(config, \"train\")"
   ]
  },
  {
   "cell_type": "code",
   "execution_count": 47,
   "metadata": {},
   "outputs": [
    {
     "name": "stdout",
     "output_type": "stream",
     "text": [
      "(512, 5, 3) (1, 512, 5, 3) None\n"
     ]
    }
   ],
   "source": [
    "X, ADV, perm = next(dataset.gen_online())\n",
    "print(X.shape, ADV.shape, perm)\n",
    "\n",
    "x = torch.from_numpy(X).float().to(device)"
   ]
  },
  {
   "cell_type": "code",
   "execution_count": 48,
   "metadata": {},
   "outputs": [
    {
     "data": {
      "text/plain": [
       "torch.Size([512, 5, 3])"
      ]
     },
     "execution_count": 48,
     "metadata": {},
     "output_type": "execute_result"
    }
   ],
   "source": [
    "x.shape"
   ]
  }
 ],
 "metadata": {
  "kernelspec": {
   "display_name": "GAIA",
   "language": "python",
   "name": "python3"
  },
  "language_info": {
   "codemirror_mode": {
    "name": "ipython",
    "version": 3
   },
   "file_extension": ".py",
   "mimetype": "text/x-python",
   "name": "python",
   "nbconvert_exporter": "python",
   "pygments_lexer": "ipython3",
   "version": "3.9.18"
  }
 },
 "nbformat": 4,
 "nbformat_minor": 2
}
