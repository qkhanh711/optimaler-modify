{
 "cells": [
  {
   "cell_type": "code",
   "execution_count": 1,
   "metadata": {},
   "outputs": [],
   "source": [
    "path = \"../runs_RegretNet/X.npy\"\n",
    "path_ADV = \"../runs_RegretNet/ADV_550.npy\"\n",
    "import numpy as np\n",
    "import torch\n",
    "device = torch.device(\"cuda\" if torch.cuda.is_available() else \"cpu\")"
   ]
  },
  {
   "cell_type": "code",
   "execution_count": 2,
   "metadata": {
    "metadata": {}
   },
   "outputs": [
    {
     "data": {
      "text/plain": [
       "(1, 640000, 5, 3)"
      ]
     },
     "execution_count": 2,
     "metadata": {},
     "output_type": "execute_result"
    }
   ],
   "source": [
    "ADV = np.load(path_ADV)\n",
    "ADV.shape\n"
   ]
  },
  {
   "cell_type": "code",
   "execution_count": 3,
   "metadata": {
    "metadata": {}
   },
   "outputs": [],
   "source": [
    "dataset = np.load(path)"
   ]
  },
  {
   "cell_type": "code",
   "execution_count": 4,
   "metadata": {
    "metadata": {}
   },
   "outputs": [
    {
     "data": {
      "text/plain": [
       "(640000, 9, 3)"
      ]
     },
     "execution_count": 4,
     "metadata": {},
     "output_type": "execute_result"
    }
   ],
   "source": [
    "dataset.shape"
   ]
  },
  {
   "cell_type": "code",
   "execution_count": 5,
   "metadata": {
    "metadata": {}
   },
   "outputs": [
    {
     "name": "stdout",
     "output_type": "stream",
     "text": [
      "core\tLICENSE     plots\t      run_configs\t target_nets\n",
      "data\tmain.py     README.md\t      runs_RegretFormer  utility\n",
      "layers\tmechanisms  requirements.txt  runs_RegretNet\t utils\n",
      "{'regret_type': 'standard', 'architecture': 'RegretNet', 'distribution_type': 'uniform_01', 'min': 0, 'max': 1, 'num_agents': 9, 'num_items': 3, 'save_data': 'runs_RegretNet/setting_default_config/seed_0', 'dir_name': 'runs_RegretNet', 'plot': {'bool': False, 'n_points': 201}, 'distill': {'architecture': None, 'validate_target_misreports': True, 'train_misreports': True}, 'net': {'init': 'gu', 'activation': 'tanh', 'num_a_layers': 3, 'num_p_layers': 3, 'num_p_hidden_units': 20, 'num_a_hidden_units': 20, 'layer_norm': False, 'hid_att': 16, 'hid': 32, 'n_attention_layers': 1, 'n_attention_heads': 2, 'activation_att': 'tanh', 'pos_enc': False, 'pos_enc_part': 1, 'pos_enc_item': 1, 'n_exch_layers': 3, 'hid_exch': 32, 'activation_exch': 'relu'}, 'train': {'seed': 42, 'restore_iter': 0, 'max_iter': 3000, 'learning_rate': 0.001, 'data': 'fixed', 'num_batches': 1250, 'batch_size': 512, 'adv_reuse': True, 'num_misreports': 1, 'gd_iter': 50, 'gd_lr': 0.1, 'gd_lr_step': 1, 'w_rgt_init_val': 1, 'rgt_target_start': 0.01, 'rgt_target_end': 0.001, 'rgt_lr': 0.5, 'save_iter': 1500, 'print_iter': 250, 'num_instances': 640000}, 'val': {'num_misreports': 1, 'gd_iter': 1000, 'gd_lr': 0.1, 'gd_lr_step': 1, 'num_batches': 128, 'batch_size': 32, 'print_iter': 750, 'data': 'online', 'num_instances': 4096}, 'setting': 'default_config'}\n"
     ]
    }
   ],
   "source": [
    "import sys\n",
    "sys.path.append(\"../\")\n",
    "!ls ..\n",
    "from core import base\n",
    "import core.base.base_generator as base_generator\n",
    "import json\n",
    "import easydict\n",
    "config = json.load(open(\"../runs_RegretNet/setting_default_config/seed_0/config.json\", \"r\"))\n",
    "config = easydict.EasyDict(config)\n",
    "print(config)"
   ]
  },
  {
   "cell_type": "code",
   "execution_count": 6,
   "metadata": {
    "metadata": {}
   },
   "outputs": [],
   "source": [
    "from __future__ import absolute_import, division, print_function\n",
    "\n",
    "import numpy as np\n",
    "\n",
    "from core.base.base_generator import BaseGenerator\n",
    "\n",
    "\n",
    "class Generator(BaseGenerator):\n",
    "    def __init__(self, config, mode, X=None, ADV=None):\n",
    "        super(Generator, self).__init__(config, mode)\n",
    "        self.build_generator(X=X, ADV=ADV)\n",
    "\n",
    "    def save_data(self, iter):\n",
    "        return super().save_data(iter)\n",
    "\n",
    "    def generate_random_X(self, shape):\n",
    "        return np.random.rand(*shape)\n",
    "\n",
    "    def generate_random_ADV(self, shape):\n",
    "        return np.random.rand(*shape)\n"
   ]
  },
  {
   "cell_type": "code",
   "execution_count": 19,
   "metadata": {},
   "outputs": [],
   "source": [
    "dataset = Generator(config, \"train\")"
   ]
  },
  {
   "cell_type": "code",
   "execution_count": 20,
   "metadata": {},
   "outputs": [
    {
     "name": "stdout",
     "output_type": "stream",
     "text": [
      "(512, 5, 3) (1, 512, 5, 3) None\n"
     ]
    }
   ],
   "source": [
    "X, ADV, perm = next(dataset.gen_online())\n",
    "print(X.shape, ADV.shape, perm)\n",
    "\n",
    "x = torch.from_numpy(X).float().to(device)"
   ]
  },
  {
   "cell_type": "markdown",
   "metadata": {},
   "source": [
    "# GAN"
   ]
  },
  {
   "cell_type": "code",
   "execution_count": 24,
   "metadata": {},
   "outputs": [
    {
     "name": "stdout",
     "output_type": "stream",
     "text": [
      "Epoch [0/50]                   Loss D: 0.6843, loss G: 0.6703\n",
      "Epoch [1/50]                   Loss D: 0.6840, loss G: 0.6651\n",
      "Epoch [2/50]                   Loss D: 0.6828, loss G: 0.6630\n",
      "Epoch [3/50]                   Loss D: 0.6828, loss G: 0.6592\n",
      "Epoch [4/50]                   Loss D: 0.6828, loss G: 0.6547\n",
      "Epoch [5/50]                   Loss D: 0.6825, loss G: 0.6510\n",
      "Epoch [6/50]                   Loss D: 0.6809, loss G: 0.6492\n",
      "Epoch [7/50]                   Loss D: 0.6824, loss G: 0.6436\n",
      "Epoch [8/50]                   Loss D: 0.6826, loss G: 0.6402\n",
      "Epoch [9/50]                   Loss D: 0.6834, loss G: 0.6355\n",
      "Epoch [10/50]                   Loss D: 0.6826, loss G: 0.6317\n",
      "Epoch [11/50]                   Loss D: 0.6843, loss G: 0.6269\n",
      "Epoch [12/50]                   Loss D: 0.6848, loss G: 0.6219\n",
      "Epoch [13/50]                   Loss D: 0.6843, loss G: 0.6191\n",
      "Epoch [14/50]                   Loss D: 0.6860, loss G: 0.6144\n",
      "Epoch [15/50]                   Loss D: 0.6855, loss G: 0.6106\n",
      "Epoch [16/50]                   Loss D: 0.6877, loss G: 0.6052\n",
      "Epoch [17/50]                   Loss D: 0.6871, loss G: 0.6033\n",
      "Epoch [18/50]                   Loss D: 0.6885, loss G: 0.5988\n",
      "Epoch [19/50]                   Loss D: 0.6889, loss G: 0.5949\n",
      "Epoch [20/50]                   Loss D: 0.6894, loss G: 0.5915\n",
      "Epoch [21/50]                   Loss D: 0.6906, loss G: 0.5893\n",
      "Epoch [22/50]                   Loss D: 0.6895, loss G: 0.5865\n",
      "Epoch [23/50]                   Loss D: 0.6910, loss G: 0.5835\n",
      "Epoch [24/50]                   Loss D: 0.6926, loss G: 0.5809\n",
      "Epoch [25/50]                   Loss D: 0.6924, loss G: 0.5787\n",
      "Epoch [26/50]                   Loss D: 0.6943, loss G: 0.5753\n",
      "Epoch [27/50]                   Loss D: 0.6923, loss G: 0.5764\n",
      "Epoch [28/50]                   Loss D: 0.6911, loss G: 0.5752\n",
      "Epoch [29/50]                   Loss D: 0.6925, loss G: 0.5730\n",
      "Epoch [30/50]                   Loss D: 0.6913, loss G: 0.5730\n",
      "Epoch [31/50]                   Loss D: 0.6921, loss G: 0.5714\n",
      "Epoch [32/50]                   Loss D: 0.6922, loss G: 0.5710\n",
      "Epoch [33/50]                   Loss D: 0.6894, loss G: 0.5721\n",
      "Epoch [34/50]                   Loss D: 0.6895, loss G: 0.5720\n",
      "Epoch [35/50]                   Loss D: 0.6885, loss G: 0.5726\n",
      "Epoch [36/50]                   Loss D: 0.6876, loss G: 0.5733\n",
      "Epoch [37/50]                   Loss D: 0.6848, loss G: 0.5764\n",
      "Epoch [38/50]                   Loss D: 0.6845, loss G: 0.5756\n",
      "Epoch [39/50]                   Loss D: 0.6832, loss G: 0.5773\n",
      "Epoch [40/50]                   Loss D: 0.6818, loss G: 0.5793\n",
      "Epoch [41/50]                   Loss D: 0.6813, loss G: 0.5810\n",
      "Epoch [42/50]                   Loss D: 0.6795, loss G: 0.5836\n",
      "Epoch [43/50]                   Loss D: 0.6781, loss G: 0.5846\n",
      "Epoch [44/50]                   Loss D: 0.6772, loss G: 0.5863\n",
      "Epoch [45/50]                   Loss D: 0.6767, loss G: 0.5873\n",
      "Epoch [46/50]                   Loss D: 0.6747, loss G: 0.5897\n",
      "Epoch [47/50]                   Loss D: 0.6736, loss G: 0.5916\n",
      "Epoch [48/50]                   Loss D: 0.6707, loss G: 0.5942\n",
      "Epoch [49/50]                   Loss D: 0.6712, loss G: 0.5953\n"
     ]
    }
   ],
   "source": [
    "import torch\n",
    "import torch.nn as nn\n",
    "import torch.optim as optim\n",
    "import torchvision\n",
    "import torchvision.datasets as datasets\n",
    "from torch.utils.data import DataLoader\n",
    "import torchvision.transforms as transforms\n",
    "from torch.utils.tensorboard import SummaryWriter  \n",
    "\n",
    "\n",
    "class Discriminator(nn.Module):\n",
    "    def __init__(self, in_features):\n",
    "        super().__init__()\n",
    "        self.disc = nn.Sequential(\n",
    "            nn.Linear(in_features, 128),\n",
    "            nn.LeakyReLU(0.01),\n",
    "            nn.Linear(128, 1),\n",
    "            nn.Sigmoid(),\n",
    "        )\n",
    "\n",
    "    def forward(self, x):\n",
    "        return self.disc(x)\n",
    "\n",
    "\n",
    "class Generator(nn.Module):\n",
    "    def __init__(self, z_dim, img_dim):\n",
    "        super().__init__()\n",
    "        self.gen = nn.Sequential(\n",
    "            nn.Linear(z_dim, 256),\n",
    "            nn.LeakyReLU(0.01),\n",
    "            nn.Linear(256, img_dim),\n",
    "            nn.Tanh(),  \n",
    "        )\n",
    "\n",
    "    def forward(self, x):\n",
    "        return self.gen(x)\n",
    "\n",
    "\n",
    "device = \"cuda\" if torch.cuda.is_available() else \"cpu\"\n",
    "lr = 3e-4\n",
    "z_dim = 64\n",
    "image_dim = X.shape[1]*X.shape[2]\n",
    "batch_size = 32\n",
    "num_epochs = 50\n",
    "\n",
    "disc = Discriminator(image_dim).to(device)\n",
    "gen = Generator(z_dim, image_dim).to(device)\n",
    "fixed_noise = torch.randn((batch_size, z_dim)).to(device)\n",
    "transforms = transforms.Compose(\n",
    "    [transforms.ToTensor(), transforms.Normalize((0.5,), (0.5,))]\n",
    ")\n",
    "\n",
    "opt_disc = optim.Adam(disc.parameters(), lr=lr)\n",
    "opt_gen = optim.Adam(gen.parameters(), lr=lr)\n",
    "criterion = nn.BCELoss()\n",
    "writer_fake = SummaryWriter(f\"logs/fake\")\n",
    "writer_real = SummaryWriter(f\"logs/real\")\n",
    "step = 0\n",
    "\n",
    "for epoch in range(num_epochs):\n",
    "    X, ADV, perm = next(dataset.gen_online())\n",
    "    x = torch.from_numpy(X).float().to(device)\n",
    "    real = x.view(-1, X.shape[1]*X.shape[2]).to(device)\n",
    "    batch_size = real.shape[0]\n",
    "\n",
    "    noise = torch.randn(batch_size, z_dim).to(device)\n",
    "    fake = gen(noise)\n",
    "    disc_real = disc(real).view(-1)\n",
    "    lossD_real = criterion(disc_real, torch.ones_like(disc_real))\n",
    "    disc_fake = disc(fake).view(-1)\n",
    "    lossD_fake = criterion(disc_fake, torch.zeros_like(disc_fake))\n",
    "    lossD = (lossD_real + lossD_fake) / 2\n",
    "    disc.zero_grad()\n",
    "    lossD.backward(retain_graph=True)\n",
    "    opt_disc.step()\n",
    "\n",
    "    output = disc(fake).view(-1)\n",
    "    lossG = criterion(output, torch.ones_like(output))\n",
    "    gen.zero_grad()\n",
    "    lossG.backward()\n",
    "    opt_gen.step()\n",
    "\n",
    "    if epoch % 1 == 0:\n",
    "        print(\n",
    "            f\"Epoch [{epoch}/{num_epochs}] \\\n",
    "                  Loss D: {lossD:.4f}, loss G: {lossG:.4f}\"\n",
    "        )\n",
    "\n",
    "        with torch.no_grad():\n",
    "            fake = gen(fixed_noise).reshape(-1, 1, X.shape[1], X.shape[2])\n",
    "            data = real.reshape(-1, 1, X.shape[1], X.shape[2])\n",
    "            img_grid_fake = torchvision.utils.make_grid(fake, normalize=True)\n",
    "            img_grid_real = torchvision.utils.make_grid(data, normalize=True)\n",
    "\n",
    "            writer_fake.add_image(\n",
    "                \"Mnist Fake Images\", img_grid_fake, global_step=step\n",
    "            )\n",
    "            writer_real.add_image(\n",
    "                \"Mnist Real Images\", img_grid_real, global_step=step\n",
    "            )\n",
    "            step += 1\n"
   ]
  },
  {
   "cell_type": "code",
   "execution_count": null,
   "metadata": {},
   "outputs": [],
   "source": []
  }
 ],
 "metadata": {
  "kernelspec": {
   "display_name": "GAIA",
   "language": "python",
   "name": "python3"
  },
  "language_info": {
   "codemirror_mode": {
    "name": "ipython",
    "version": 3
   },
   "file_extension": ".py",
   "mimetype": "text/x-python",
   "name": "python",
   "nbconvert_exporter": "python",
   "pygments_lexer": "ipython3",
   "version": "3.9.18"
  }
 },
 "nbformat": 4,
 "nbformat_minor": 2
}
